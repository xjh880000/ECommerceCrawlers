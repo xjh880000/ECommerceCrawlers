{
  "nbformat": 4,
  "nbformat_minor": 0,
  "metadata": {
    "colab": {
      "provenance": [],
      "authorship_tag": "ABX9TyMCqt35Nj1WsSDDWkzkoVmV",
      "include_colab_link": true
    },
    "kernelspec": {
      "name": "python3",
      "display_name": "Python 3"
    },
    "language_info": {
      "name": "python"
    },
    "accelerator": "GPU",
    "gpuClass": "standard"
  },
  "cells": [
    {
      "cell_type": "markdown",
      "metadata": {
        "id": "view-in-github",
        "colab_type": "text"
      },
      "source": [
        "<a href=\"https://colab.research.google.com/github/xjh880000/ECommerceCrawlers/blob/master/auto_2.ipynb\" target=\"_parent\"><img src=\"https://colab.research.google.com/assets/colab-badge.svg\" alt=\"Open In Colab\"/></a>"
      ]
    },
    {
      "cell_type": "code",
      "source": [
        "# cd /content\n",
        "# !pwd\n",
        "# %cd /content\n",
        "!ls -la /\n"
      ],
      "metadata": {
        "id": "7LKKrzObCIKq"
      },
      "execution_count": null,
      "outputs": []
    },
    {
      "cell_type": "code",
      "source": [
        "\n",
        "!python pass_6.py\n",
        "# !pip install selenium\n",
        "# !pip install requests\n",
        "# !apt-get update\n",
        "# !apt-get install -y wget curl unzip xvfb libxi6 libgconf-2-4\n",
        "# !wget -q https://dl.google.com/linux/direct/google-chrome-stable_current_amd64.deb\n",
        "# !dpkg -i google-chrome-stable_current_amd64.deb\n",
        "# !apt-get install -y --no-install-recommends chromium-chromedriver\n",
        "\n"
      ],
      "metadata": {
        "colab": {
          "base_uri": "https://localhost:8080/"
        },
        "id": "kRinVpqHDdHo",
        "outputId": "952d4f75-892f-4564-d1b1-fb35dbe648d8"
      },
      "execution_count": 4,
      "outputs": [
        {
          "output_type": "stream",
          "name": "stdout",
          "text": [
            "点击登录\n",
            "文件保存成功，用时 0.04 秒\n",
            "Traceback (most recent call last):\n",
            "  File \"/content/pass_6.py\", line 454, in <module>\n",
            "    pass_login_vcode(slider_xpath)\n",
            "  File \"/content/pass_6.py\", line 102, in pass_login_vcode\n",
            "    x = int(x) * 400/310\n",
            "ValueError: invalid literal for int() with base 10: 'IllegalArgumentException: 图片不能为空'\n"
          ]
        }
      ]
    }
  ]
}